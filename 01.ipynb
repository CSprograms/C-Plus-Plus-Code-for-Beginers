{
  "nbformat": 4,
  "nbformat_minor": 0,
  "metadata": {
    "colab": {
      "name": "CPP_001.ipynb",
      "provenance": [],
      "collapsed_sections": [],
      "authorship_tag": "ABX9TyNxDw3GTjfcVzjCUPVBIVDg"
    },
    "kernelspec": {
      "name": "python3",
      "display_name": "Python 3"
    },
    "language_info": {
      "name": "python"
    }
  },
  "cells": [
    {
      "cell_type": "code",
      "metadata": {
        "colab": {
          "base_uri": "https://localhost:8080/"
        },
        "id": "64NSz_7oM_Q7",
        "outputId": "215b96d6-4e29-4142-c660-b2804a81f295"
      },
      "source": [
        "%%writefile sample.cpp\n",
        "\n",
        "#include<iostream>\n",
        "using namespace std;\n",
        "\n",
        "int main()\n",
        "{\n",
        "    cout<<\"Running C++ programs in Co-Lab\";\n",
        " return 0;\n",
        "\n",
        "}"
      ],
      "execution_count": null,
      "outputs": [
        {
          "output_type": "stream",
          "text": [
            "Overwriting sample.cpp\n"
          ],
          "name": "stdout"
        }
      ]
    },
    {
      "cell_type": "code",
      "metadata": {
        "id": "jtUQqUS-TEwZ"
      },
      "source": [
        "from google.colab import drive\n",
        "drive.mount('/content/drive')"
      ],
      "execution_count": null,
      "outputs": []
    },
    {
      "cell_type": "code",
      "metadata": {
        "colab": {
          "base_uri": "https://localhost:8080/"
        },
        "id": "MloDltE5OKtq",
        "outputId": "d2b35e59-0deb-4a47-c54f-b99aaaf41e13"
      },
      "source": [
        "%%shell\n",
        "g++ sample.c -o sample\n",
        "./sample"
      ],
      "execution_count": null,
      "outputs": [
        {
          "output_type": "stream",
          "text": [
            "Running C Programs in Co-Lab"
          ],
          "name": "stdout"
        },
        {
          "output_type": "execute_result",
          "data": {
            "text/plain": [
              ""
            ]
          },
          "metadata": {
            "tags": []
          },
          "execution_count": 10
        }
      ]
    }
  ]
}